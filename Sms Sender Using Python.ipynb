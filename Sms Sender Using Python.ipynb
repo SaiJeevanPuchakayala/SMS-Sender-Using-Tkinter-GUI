{
 "cells": [
  {
   "cell_type": "markdown",
   "metadata": {},
   "source": [
    "## Sms Sender Using Tkinter GUI\n",
    "\n",
    "### 1. Importing the required libraries\n",
    "\n",
    "= > `requests` library is one of the integral part of Python for making HTTP requests to a specified URL. Requests is an Apache2 Licensed HTTP library, that allows to send HTTP/1.1 requests using Python.\n",
    "\n",
    "= > `json` The full-form of JSON is JavaScript Object Notation. It means that a script (executable) file which is made of text in a programming language, is used to store and transfer the data. \n",
    "\n",
    "= > `tkinter`  It is a standard Python interface to the Tk GUI toolkit shipped with Python. Python with tkinter is the fastest and easiest way to create the GUI applications. The Tkinter tkMessageBox has various methods to display a message box.\n"
   ]
  },
  {
   "cell_type": "code",
   "execution_count": 1,
   "metadata": {},
   "outputs": [],
   "source": [
    "import requests\n",
    "import json\n",
    "from tkinter import *\n",
    "from tkinter.messagebox import showinfo, showerror\n",
    "from tkinter.scrolledtext import ScrolledText"
   ]
  },
  {
   "cell_type": "markdown",
   "metadata": {},
   "source": [
    "### 2. Here is the actual API code \n",
    "\n",
    "I have used `fast2sms` as my API for sending SMS and there are many other API's for sending SMS."
   ]
  },
  {
   "cell_type": "code",
   "execution_count": 2,
   "metadata": {},
   "outputs": [],
   "source": [
    "def send_sms(number, message):\n",
    "    url = 'https://www.fast2sms.com/dev/bulk'\n",
    "    params = {\n",
    "        'authorization': 'tRp5ATdieoUWXxOE7GbqMy9P43KLv1YzuSrCNHmcs0hjaJlI6wZNftkCHDdFW38Ba0rJI2l5M1neupTY',# your fast2sms api code must be entered here.\n",
    "        'sender_id': 'FSTSMS',\n",
    "        'message': message,\n",
    "        'language': 'english',\n",
    "        'route': 'p',\n",
    "        'numbers': number\n",
    "    }\n",
    "    response = requests.get(url, params=params)\n",
    "    status = response.json()  # response.json() returns a JSON object of the URL you have requested.\n",
    "    print(status)\n",
    "    return status.get('return') #The get() method returns the value for the specified key if key is in dictionary."
   ]
  },
  {
   "cell_type": "markdown",
   "metadata": {},
   "source": [
    "### 3. Send Button for sending Message to specified mobile numbers.\n",
    "You can send SMS to multiple mobile numbers seperated by comma like: \"8888888888,9999999999,6666666666\""
   ]
  },
  {
   "cell_type": "code",
   "execution_count": 3,
   "metadata": {},
   "outputs": [],
   "source": [
    "def button_click(): # This button_click function is used for send button in Tkinter GUI window.\n",
    "    num = MobileNumber.get()\n",
    "    msg = textMsg.get(\"1.0\", END)\n",
    "    sender = send_sms(num, msg)\n",
    "    if sender:\n",
    "        showinfo(\"Alert Box\", \"Message Sent Successfully.!\")\n",
    "    else:\n",
    "        showerror(\"Alert Box\", \"Something went wrong. Message was not delivered!\")"
   ]
  },
  {
   "cell_type": "markdown",
   "metadata": {},
   "source": [
    "### 4. Tkinter GUI Window Design"
   ]
  },
  {
   "cell_type": "code",
   "execution_count": null,
   "metadata": {},
   "outputs": [],
   "source": [
    "#calling Tk() method\n",
    "root = Tk()\n",
    "\n",
    "#title() method is used to change the title \n",
    "root.title(\" Jeevan's SMS Sender \")\n",
    "\n",
    "#geometry() method is used to resize the Gui Window\n",
    "root.geometry(\"400x400\")\n",
    "\n",
    "\n",
    "#Sets the Tkinter Window Background Color\n",
    "root.configure(bg='gray25')\n",
    "\n",
    "#Sets Window Icon in Tkinter\n",
    "root.iconbitmap('Send_sms.ico')\n",
    "\n",
    "# Lable() function creates a label widget \n",
    "l =  Label(root, text=\"⇚ New Message ⇛\",font=('verdana',15,'bold'),bg=\"gray25\",fg=\"yellow\")\n",
    "l.place(x=85,y=10)\n",
    "\n",
    "\n",
    "# Lable() function creates a label widget \n",
    "l1 = Label(root, text = \"To Mobile Number:\",font=('verdana',12,'bold'),bg=\"gray25\",fg=\"yellow\")\n",
    "l1.place(x=10,y=70)\n",
    "\n",
    "# entry widgets, used to take entry from user \n",
    "MobileNumber = Entry(root, font=(\"Helvetica\", 10, \"bold\"))\n",
    "MobileNumber.pack(fill=None, pady=100,ipadx = 120,ipady = 5)\n",
    "\n",
    "\n",
    "# Lable() function creates a label widget \n",
    "l2 = Label(root, text = \"Message:\",font=('verdana',12,'bold'),bg=\"gray25\",fg=\"yellow\")\n",
    "l2.place(x=10,y=160)\n",
    "\n",
    "# ScrolledText entry widgets, used to take entry from user\n",
    "textMsg = ScrolledText(root,width=40,height=5)\n",
    "textMsg['font'] = (\"verdana\",10,'bold')\n",
    "textMsg.place(x=10,y=190)\n",
    "\n",
    "\n",
    "# Button() function is used to create button widgets\n",
    "sendBtn = Button(root, text=\"⮞ SEND\", command=button_click,font=('verdana',10,'bold'),bg=\"blue\",fg=\"white\",cursor='hand2')\n",
    "sendBtn.place(x=250,y=322)\n",
    "\n",
    "\n",
    "# Button for closing \n",
    "exit_button = Button(root, text=\"X EXIT\", command=root.destroy,font=('verdana',10,'bold'),bg=\"blue\",fg=\"white\",cursor='hand2') \n",
    "exit_button.place(x=75,y=322)\n",
    "\n",
    "\n",
    "\n",
    "# Disables resizing in a Tkinter Window.\n",
    "root.resizable(False, False) \n",
    "\n",
    "\n",
    "#mainloop() is used to load the GUI Window\n",
    "root.mainloop()"
   ]
  }
 ],
 "metadata": {
  "kernelspec": {
   "display_name": "Python 3",
   "language": "python",
   "name": "python3"
  },
  "language_info": {
   "codemirror_mode": {
    "name": "ipython",
    "version": 3
   },
   "file_extension": ".py",
   "mimetype": "text/x-python",
   "name": "python",
   "nbconvert_exporter": "python",
   "pygments_lexer": "ipython3",
   "version": "3.8.5"
  }
 },
 "nbformat": 4,
 "nbformat_minor": 4
}
